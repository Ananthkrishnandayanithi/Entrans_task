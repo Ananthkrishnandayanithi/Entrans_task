{
 "cells": [
  {
   "cell_type": "code",
   "execution_count": 1,
   "metadata": {
    "colab": {
     "base_uri": "https://localhost:8080/"
    },
    "id": "DRgyLZOFSauS",
    "outputId": "fe375f92-11ef-42dd-cba6-86ea437f2ff5"
   },
   "outputs": [
    {
     "name": "stdout",
     "output_type": "stream",
     "text": [
      "Requirement already satisfied: pandas in c:\\users\\asus\\appdata\\local\\programs\\python\\python311\\lib\\site-packages (2.2.3)Note: you may need to restart the kernel to use updated packages.\n"
     ]
    },
    {
     "name": "stderr",
     "output_type": "stream",
     "text": [
      "\n",
      "[notice] A new release of pip is available: 24.0 -> 24.3.1\n",
      "[notice] To update, run: python.exe -m pip install --upgrade pip\n"
     ]
    },
    {
     "name": "stdout",
     "output_type": "stream",
     "text": [
      "\n",
      "Requirement already satisfied: numpy>=1.23.2 in c:\\users\\asus\\appdata\\local\\programs\\python\\python311\\lib\\site-packages (from pandas) (1.26.4)\n",
      "Requirement already satisfied: python-dateutil>=2.8.2 in c:\\users\\asus\\appdata\\local\\programs\\python\\python311\\lib\\site-packages (from pandas) (2.9.0.post0)\n",
      "Requirement already satisfied: pytz>=2020.1 in c:\\users\\asus\\appdata\\local\\programs\\python\\python311\\lib\\site-packages (from pandas) (2024.2)\n",
      "Requirement already satisfied: tzdata>=2022.7 in c:\\users\\asus\\appdata\\local\\programs\\python\\python311\\lib\\site-packages (from pandas) (2024.1)\n",
      "Requirement already satisfied: six>=1.5 in c:\\users\\asus\\appdata\\local\\programs\\python\\python311\\lib\\site-packages (from python-dateutil>=2.8.2->pandas) (1.16.0)\n"
     ]
    }
   ],
   "source": [
    "pip install pandas\n"
   ]
  },
  {
   "cell_type": "code",
   "execution_count": 2,
   "metadata": {
    "id": "7dzfBzlAa-3u"
   },
   "outputs": [],
   "source": [
    "import pandas as pd"
   ]
  },
  {
   "cell_type": "code",
   "execution_count": 8,
   "metadata": {},
   "outputs": [
    {
     "name": "stdout",
     "output_type": "stream",
     "text": [
      "Collecting openpyxl\n",
      "  Downloading openpyxl-3.1.5-py2.py3-none-any.whl.metadata (2.5 kB)\n",
      "Collecting et-xmlfile (from openpyxl)\n",
      "  Downloading et_xmlfile-2.0.0-py3-none-any.whl.metadata (2.7 kB)\n",
      "Downloading openpyxl-3.1.5-py2.py3-none-any.whl (250 kB)\n",
      "   ---------------------------------------- 0.0/250.9 kB ? eta -:--:--\n",
      "   ---- ---------------------------------- 30.7/250.9 kB 660.6 kB/s eta 0:00:01\n",
      "   ---- ---------------------------------- 30.7/250.9 kB 660.6 kB/s eta 0:00:01\n",
      "   ---- ---------------------------------- 30.7/250.9 kB 660.6 kB/s eta 0:00:01\n",
      "   -------------------------------- ------- 204.8/250.9 kB 1.1 MB/s eta 0:00:01\n",
      "   -------------------------------- ------- 204.8/250.9 kB 1.1 MB/s eta 0:00:01\n",
      "   -------------------------------------- 250.9/250.9 kB 908.2 kB/s eta 0:00:00\n",
      "Downloading et_xmlfile-2.0.0-py3-none-any.whl (18 kB)\n",
      "Installing collected packages: et-xmlfile, openpyxl\n",
      "Successfully installed et-xmlfile-2.0.0 openpyxl-3.1.5\n",
      "Note: you may need to restart the kernel to use updated packages.\n"
     ]
    },
    {
     "name": "stderr",
     "output_type": "stream",
     "text": [
      "\n",
      "[notice] A new release of pip is available: 24.0 -> 24.3.1\n",
      "[notice] To update, run: python.exe -m pip install --upgrade pip\n"
     ]
    }
   ],
   "source": [
    "pip install openpyxl"
   ]
  },
  {
   "cell_type": "code",
   "execution_count": 9,
   "metadata": {
    "id": "TA4MQ6YlbDhs"
   },
   "outputs": [],
   "source": [
    "\n",
    "df = pd.read_excel('D:\\Entrans_task\\sales_data.xlsx')"
   ]
  },
  {
   "cell_type": "code",
   "execution_count": 10,
   "metadata": {
    "colab": {
     "base_uri": "https://localhost:8080/"
    },
    "id": "irtHPL49bvJA",
    "outputId": "aa3de278-c828-4065-cfe7-b7cfde423b5d"
   },
   "outputs": [
    {
     "name": "stdout",
     "output_type": "stream",
     "text": [
      "             Date  Day     Month  Year  Customer_Age       Age_Group  \\\n",
      "0      2013-11-26   26  November  2013            19     Youth (<25)   \n",
      "1      2015-11-26   26  November  2015            19     Youth (<25)   \n",
      "2      2014-03-23   23     March  2014            49  Adults (35-64)   \n",
      "3      2016-03-23   23     March  2016            49  Adults (35-64)   \n",
      "4      2014-05-15   15       May  2014            47  Adults (35-64)   \n",
      "...           ...  ...       ...   ...           ...             ...   \n",
      "113031 2016-04-12   12     April  2016            41  Adults (35-64)   \n",
      "113032 2014-04-02    2     April  2014            18     Youth (<25)   \n",
      "113033 2016-04-02    2     April  2016            18     Youth (<25)   \n",
      "113034 2014-03-04    4     March  2014            37  Adults (35-64)   \n",
      "113035 2016-03-04    4     March  2016            37  Adults (35-64)   \n",
      "\n",
      "       Customer_Gender         Country             State Product_Category  \\\n",
      "0                    M          Canada  British Columbia      Accessories   \n",
      "1                    M          Canada  British Columbia      Accessories   \n",
      "2                    M       Australia   New South Wales      Accessories   \n",
      "3                    M       Australia   New South Wales      Accessories   \n",
      "4                    F       Australia   New South Wales      Accessories   \n",
      "...                ...             ...               ...              ...   \n",
      "113031               M  United Kingdom           England         Clothing   \n",
      "113032               M       Australia        Queensland         Clothing   \n",
      "113033               M       Australia        Queensland         Clothing   \n",
      "113034               F          France     Seine (Paris)         Clothing   \n",
      "113035               F          France     Seine (Paris)         Clothing   \n",
      "\n",
      "       Sub_Category              Product  Order_Quantity  Unit_Cost  \\\n",
      "0        Bike Racks  Hitch Rack - 4-Bike               8         45   \n",
      "1        Bike Racks  Hitch Rack - 4-Bike               8         45   \n",
      "2        Bike Racks  Hitch Rack - 4-Bike              23         45   \n",
      "3        Bike Racks  Hitch Rack - 4-Bike              20         45   \n",
      "4        Bike Racks  Hitch Rack - 4-Bike               4         45   \n",
      "...             ...                  ...             ...        ...   \n",
      "113031        Vests      Classic Vest, S               3         24   \n",
      "113032        Vests      Classic Vest, M              22         24   \n",
      "113033        Vests      Classic Vest, M              22         24   \n",
      "113034        Vests      Classic Vest, L              24         24   \n",
      "113035        Vests      Classic Vest, L              23         24   \n",
      "\n",
      "        Unit_Price  Profit  Cost  Revenue  \n",
      "0              120     590   360      950  \n",
      "1              120     590   360      950  \n",
      "2              120    1366  1035     2401  \n",
      "3              120    1188   900     2088  \n",
      "4              120     238   180      418  \n",
      "...            ...     ...   ...      ...  \n",
      "113031          64     112    72      184  \n",
      "113032          64     655   528     1183  \n",
      "113033          64     655   528     1183  \n",
      "113034          64     684   576     1260  \n",
      "113035          64     655   552     1207  \n",
      "\n",
      "[113036 rows x 18 columns]\n"
     ]
    }
   ],
   "source": [
    "print(df)"
   ]
  },
  {
   "cell_type": "code",
   "execution_count": 19,
   "metadata": {
    "colab": {
     "base_uri": "https://localhost:8080/",
     "height": 424
    },
    "id": "Urq_XY5sfe8x",
    "outputId": "ece1420b-86aa-4666-93c7-e08941878a0b"
   },
   "outputs": [
    {
     "data": {
      "application/vnd.google.colaboratory.intrinsic+json": {
       "summary": "{\n  \"name\": \"df\",\n  \"rows\": 8,\n  \"fields\": [\n    {\n      \"column\": \"Date\",\n      \"properties\": {\n        \"dtype\": \"date\",\n        \"min\": \"1970-01-01 00:00:00.000113036\",\n        \"max\": \"2016-07-31 00:00:00\",\n        \"num_unique_values\": 7,\n        \"samples\": [\n          \"113036\",\n          \"2014-11-23 12:14:55.063519232\",\n          \"2016-01-09 00:00:00\"\n        ],\n        \"semantic_type\": \"\",\n        \"description\": \"\"\n      }\n    },\n    {\n      \"column\": \"Day\",\n      \"properties\": {\n        \"dtype\": \"number\",\n        \"std\": 39959.03726151078,\n        \"min\": 1.0,\n        \"max\": 113036.0,\n        \"num_unique_values\": 8,\n        \"samples\": [\n          15.665752503627163,\n          23.0,\n          113036.0\n        ],\n        \"semantic_type\": \"\",\n        \"description\": \"\"\n      }\n    },\n    {\n      \"column\": \"Year\",\n      \"properties\": {\n        \"dtype\": \"number\",\n        \"std\": 39360.14470630131,\n        \"min\": 1.2725103861597218,\n        \"max\": 113036.0,\n        \"num_unique_values\": 7,\n        \"samples\": [\n          113036.0,\n          2014.4017392689054,\n          2016.0\n        ],\n        \"semantic_type\": \"\",\n        \"description\": \"\"\n      }\n    },\n    {\n      \"column\": \"Customer_Age\",\n      \"properties\": {\n        \"dtype\": \"number\",\n        \"std\": 39951.29018022159,\n        \"min\": 11.021935623682856,\n        \"max\": 113036.0,\n        \"num_unique_values\": 8,\n        \"samples\": [\n          35.91921157861212,\n          43.0,\n          113036.0\n        ],\n        \"semantic_type\": \"\",\n        \"description\": \"\"\n      }\n    },\n    {\n      \"column\": \"Order_Quantity\",\n      \"properties\": {\n        \"dtype\": \"number\",\n        \"std\": 39959.89523273121,\n        \"min\": 1.0,\n        \"max\": 113036.0,\n        \"num_unique_values\": 8,\n        \"samples\": [\n          11.901659648253654,\n          20.0,\n          113036.0\n        ],\n        \"semantic_type\": \"\",\n        \"description\": \"\"\n      }\n    },\n    {\n      \"column\": \"Unit_Cost\",\n      \"properties\": {\n        \"dtype\": \"number\",\n        \"std\": 39817.368010015874,\n        \"min\": 1.0,\n        \"max\": 113036.0,\n        \"num_unique_values\": 8,\n        \"samples\": [\n          267.296365759581,\n          42.0,\n          113036.0\n        ],\n        \"semantic_type\": \"\",\n        \"description\": \"\"\n      }\n    },\n    {\n      \"column\": \"Unit_Price\",\n      \"properties\": {\n        \"dtype\": \"number\",\n        \"std\": 39727.3636468028,\n        \"min\": 2.0,\n        \"max\": 113036.0,\n        \"num_unique_values\": 8,\n        \"samples\": [\n          452.9384266959199,\n          70.0,\n          113036.0\n        ],\n        \"semantic_type\": \"\",\n        \"description\": \"\"\n      }\n    },\n    {\n      \"column\": \"Profit\",\n      \"properties\": {\n        \"dtype\": \"number\",\n        \"std\": 39487.26209608101,\n        \"min\": -30.0,\n        \"max\": 113036.0,\n        \"num_unique_values\": 8,\n        \"samples\": [\n          285.0516649562971,\n          358.0,\n          113036.0\n        ],\n        \"semantic_type\": \"\",\n        \"description\": \"\"\n      }\n    },\n    {\n      \"column\": \"Cost\",\n      \"properties\": {\n        \"dtype\": \"number\",\n        \"std\": 40545.2636088292,\n        \"min\": 1.0,\n        \"max\": 113036.0,\n        \"num_unique_values\": 8,\n        \"samples\": [\n          469.3186949290492,\n          432.0,\n          113036.0\n        ],\n        \"semantic_type\": \"\",\n        \"description\": \"\"\n      }\n    },\n    {\n      \"column\": \"Revenue\",\n      \"properties\": {\n        \"dtype\": \"number\",\n        \"std\": 42014.99902765207,\n        \"min\": 2.0,\n        \"max\": 113036.0,\n        \"num_unique_values\": 8,\n        \"samples\": [\n          754.3703598853463,\n          800.0,\n          113036.0\n        ],\n        \"semantic_type\": \"\",\n        \"description\": \"\"\n      }\n    }\n  ]\n}",
       "type": "dataframe"
      },
      "text/html": [
       "\n",
       "  <div id=\"df-ffdb2f7e-c609-4f29-a3c7-6d8da18caf5b\" class=\"colab-df-container\">\n",
       "    <div>\n",
       "<style scoped>\n",
       "    .dataframe tbody tr th:only-of-type {\n",
       "        vertical-align: middle;\n",
       "    }\n",
       "\n",
       "    .dataframe tbody tr th {\n",
       "        vertical-align: top;\n",
       "    }\n",
       "\n",
       "    .dataframe thead th {\n",
       "        text-align: right;\n",
       "    }\n",
       "</style>\n",
       "<table border=\"1\" class=\"dataframe\">\n",
       "  <thead>\n",
       "    <tr style=\"text-align: right;\">\n",
       "      <th></th>\n",
       "      <th>Date</th>\n",
       "      <th>Day</th>\n",
       "      <th>Year</th>\n",
       "      <th>Customer_Age</th>\n",
       "      <th>Order_Quantity</th>\n",
       "      <th>Unit_Cost</th>\n",
       "      <th>Unit_Price</th>\n",
       "      <th>Profit</th>\n",
       "      <th>Cost</th>\n",
       "      <th>Revenue</th>\n",
       "    </tr>\n",
       "  </thead>\n",
       "  <tbody>\n",
       "    <tr>\n",
       "      <th>count</th>\n",
       "      <td>113036</td>\n",
       "      <td>113036.000000</td>\n",
       "      <td>113036.000000</td>\n",
       "      <td>113036.000000</td>\n",
       "      <td>113036.000000</td>\n",
       "      <td>113036.000000</td>\n",
       "      <td>113036.000000</td>\n",
       "      <td>113036.000000</td>\n",
       "      <td>113036.000000</td>\n",
       "      <td>113036.000000</td>\n",
       "    </tr>\n",
       "    <tr>\n",
       "      <th>mean</th>\n",
       "      <td>2014-11-23 12:14:55.063519232</td>\n",
       "      <td>15.665753</td>\n",
       "      <td>2014.401739</td>\n",
       "      <td>35.919212</td>\n",
       "      <td>11.901660</td>\n",
       "      <td>267.296366</td>\n",
       "      <td>452.938427</td>\n",
       "      <td>285.051665</td>\n",
       "      <td>469.318695</td>\n",
       "      <td>754.370360</td>\n",
       "    </tr>\n",
       "    <tr>\n",
       "      <th>min</th>\n",
       "      <td>2011-01-01 00:00:00</td>\n",
       "      <td>1.000000</td>\n",
       "      <td>2011.000000</td>\n",
       "      <td>17.000000</td>\n",
       "      <td>1.000000</td>\n",
       "      <td>1.000000</td>\n",
       "      <td>2.000000</td>\n",
       "      <td>-30.000000</td>\n",
       "      <td>1.000000</td>\n",
       "      <td>2.000000</td>\n",
       "    </tr>\n",
       "    <tr>\n",
       "      <th>25%</th>\n",
       "      <td>2013-12-22 00:00:00</td>\n",
       "      <td>8.000000</td>\n",
       "      <td>2013.000000</td>\n",
       "      <td>28.000000</td>\n",
       "      <td>2.000000</td>\n",
       "      <td>2.000000</td>\n",
       "      <td>5.000000</td>\n",
       "      <td>29.000000</td>\n",
       "      <td>28.000000</td>\n",
       "      <td>63.000000</td>\n",
       "    </tr>\n",
       "    <tr>\n",
       "      <th>50%</th>\n",
       "      <td>2014-06-27 00:00:00</td>\n",
       "      <td>16.000000</td>\n",
       "      <td>2014.000000</td>\n",
       "      <td>35.000000</td>\n",
       "      <td>10.000000</td>\n",
       "      <td>9.000000</td>\n",
       "      <td>24.000000</td>\n",
       "      <td>101.000000</td>\n",
       "      <td>108.000000</td>\n",
       "      <td>223.000000</td>\n",
       "    </tr>\n",
       "    <tr>\n",
       "      <th>75%</th>\n",
       "      <td>2016-01-09 00:00:00</td>\n",
       "      <td>23.000000</td>\n",
       "      <td>2016.000000</td>\n",
       "      <td>43.000000</td>\n",
       "      <td>20.000000</td>\n",
       "      <td>42.000000</td>\n",
       "      <td>70.000000</td>\n",
       "      <td>358.000000</td>\n",
       "      <td>432.000000</td>\n",
       "      <td>800.000000</td>\n",
       "    </tr>\n",
       "    <tr>\n",
       "      <th>max</th>\n",
       "      <td>2016-07-31 00:00:00</td>\n",
       "      <td>31.000000</td>\n",
       "      <td>2016.000000</td>\n",
       "      <td>87.000000</td>\n",
       "      <td>32.000000</td>\n",
       "      <td>2171.000000</td>\n",
       "      <td>3578.000000</td>\n",
       "      <td>15096.000000</td>\n",
       "      <td>42978.000000</td>\n",
       "      <td>58074.000000</td>\n",
       "    </tr>\n",
       "    <tr>\n",
       "      <th>std</th>\n",
       "      <td>NaN</td>\n",
       "      <td>8.781567</td>\n",
       "      <td>1.272510</td>\n",
       "      <td>11.021936</td>\n",
       "      <td>9.561857</td>\n",
       "      <td>549.835483</td>\n",
       "      <td>922.071219</td>\n",
       "      <td>453.887443</td>\n",
       "      <td>884.866118</td>\n",
       "      <td>1309.094674</td>\n",
       "    </tr>\n",
       "  </tbody>\n",
       "</table>\n",
       "</div>\n",
       "    <div class=\"colab-df-buttons\">\n",
       "\n",
       "  <div class=\"colab-df-container\">\n",
       "    <button class=\"colab-df-convert\" onclick=\"convertToInteractive('df-ffdb2f7e-c609-4f29-a3c7-6d8da18caf5b')\"\n",
       "            title=\"Convert this dataframe to an interactive table.\"\n",
       "            style=\"display:none;\">\n",
       "\n",
       "  <svg xmlns=\"http://www.w3.org/2000/svg\" height=\"24px\" viewBox=\"0 -960 960 960\">\n",
       "    <path d=\"M120-120v-720h720v720H120Zm60-500h600v-160H180v160Zm220 220h160v-160H400v160Zm0 220h160v-160H400v160ZM180-400h160v-160H180v160Zm440 0h160v-160H620v160ZM180-180h160v-160H180v160Zm440 0h160v-160H620v160Z\"/>\n",
       "  </svg>\n",
       "    </button>\n",
       "\n",
       "  <style>\n",
       "    .colab-df-container {\n",
       "      display:flex;\n",
       "      gap: 12px;\n",
       "    }\n",
       "\n",
       "    .colab-df-convert {\n",
       "      background-color: #E8F0FE;\n",
       "      border: none;\n",
       "      border-radius: 50%;\n",
       "      cursor: pointer;\n",
       "      display: none;\n",
       "      fill: #1967D2;\n",
       "      height: 32px;\n",
       "      padding: 0 0 0 0;\n",
       "      width: 32px;\n",
       "    }\n",
       "\n",
       "    .colab-df-convert:hover {\n",
       "      background-color: #E2EBFA;\n",
       "      box-shadow: 0px 1px 2px rgba(60, 64, 67, 0.3), 0px 1px 3px 1px rgba(60, 64, 67, 0.15);\n",
       "      fill: #174EA6;\n",
       "    }\n",
       "\n",
       "    .colab-df-buttons div {\n",
       "      margin-bottom: 4px;\n",
       "    }\n",
       "\n",
       "    [theme=dark] .colab-df-convert {\n",
       "      background-color: #3B4455;\n",
       "      fill: #D2E3FC;\n",
       "    }\n",
       "\n",
       "    [theme=dark] .colab-df-convert:hover {\n",
       "      background-color: #434B5C;\n",
       "      box-shadow: 0px 1px 3px 1px rgba(0, 0, 0, 0.15);\n",
       "      filter: drop-shadow(0px 1px 2px rgba(0, 0, 0, 0.3));\n",
       "      fill: #FFFFFF;\n",
       "    }\n",
       "  </style>\n",
       "\n",
       "    <script>\n",
       "      const buttonEl =\n",
       "        document.querySelector('#df-ffdb2f7e-c609-4f29-a3c7-6d8da18caf5b button.colab-df-convert');\n",
       "      buttonEl.style.display =\n",
       "        google.colab.kernel.accessAllowed ? 'block' : 'none';\n",
       "\n",
       "      async function convertToInteractive(key) {\n",
       "        const element = document.querySelector('#df-ffdb2f7e-c609-4f29-a3c7-6d8da18caf5b');\n",
       "        const dataTable =\n",
       "          await google.colab.kernel.invokeFunction('convertToInteractive',\n",
       "                                                    [key], {});\n",
       "        if (!dataTable) return;\n",
       "\n",
       "        const docLinkHtml = 'Like what you see? Visit the ' +\n",
       "          '<a target=\"_blank\" href=https://colab.research.google.com/notebooks/data_table.ipynb>data table notebook</a>'\n",
       "          + ' to learn more about interactive tables.';\n",
       "        element.innerHTML = '';\n",
       "        dataTable['output_type'] = 'display_data';\n",
       "        await google.colab.output.renderOutput(dataTable, element);\n",
       "        const docLink = document.createElement('div');\n",
       "        docLink.innerHTML = docLinkHtml;\n",
       "        element.appendChild(docLink);\n",
       "      }\n",
       "    </script>\n",
       "  </div>\n",
       "\n",
       "\n",
       "<div id=\"df-82562a93-aa97-4a5a-9bbf-91fc510367cb\">\n",
       "  <button class=\"colab-df-quickchart\" onclick=\"quickchart('df-82562a93-aa97-4a5a-9bbf-91fc510367cb')\"\n",
       "            title=\"Suggest charts\"\n",
       "            style=\"display:none;\">\n",
       "\n",
       "<svg xmlns=\"http://www.w3.org/2000/svg\" height=\"24px\"viewBox=\"0 0 24 24\"\n",
       "     width=\"24px\">\n",
       "    <g>\n",
       "        <path d=\"M19 3H5c-1.1 0-2 .9-2 2v14c0 1.1.9 2 2 2h14c1.1 0 2-.9 2-2V5c0-1.1-.9-2-2-2zM9 17H7v-7h2v7zm4 0h-2V7h2v10zm4 0h-2v-4h2v4z\"/>\n",
       "    </g>\n",
       "</svg>\n",
       "  </button>\n",
       "\n",
       "<style>\n",
       "  .colab-df-quickchart {\n",
       "      --bg-color: #E8F0FE;\n",
       "      --fill-color: #1967D2;\n",
       "      --hover-bg-color: #E2EBFA;\n",
       "      --hover-fill-color: #174EA6;\n",
       "      --disabled-fill-color: #AAA;\n",
       "      --disabled-bg-color: #DDD;\n",
       "  }\n",
       "\n",
       "  [theme=dark] .colab-df-quickchart {\n",
       "      --bg-color: #3B4455;\n",
       "      --fill-color: #D2E3FC;\n",
       "      --hover-bg-color: #434B5C;\n",
       "      --hover-fill-color: #FFFFFF;\n",
       "      --disabled-bg-color: #3B4455;\n",
       "      --disabled-fill-color: #666;\n",
       "  }\n",
       "\n",
       "  .colab-df-quickchart {\n",
       "    background-color: var(--bg-color);\n",
       "    border: none;\n",
       "    border-radius: 50%;\n",
       "    cursor: pointer;\n",
       "    display: none;\n",
       "    fill: var(--fill-color);\n",
       "    height: 32px;\n",
       "    padding: 0;\n",
       "    width: 32px;\n",
       "  }\n",
       "\n",
       "  .colab-df-quickchart:hover {\n",
       "    background-color: var(--hover-bg-color);\n",
       "    box-shadow: 0 1px 2px rgba(60, 64, 67, 0.3), 0 1px 3px 1px rgba(60, 64, 67, 0.15);\n",
       "    fill: var(--button-hover-fill-color);\n",
       "  }\n",
       "\n",
       "  .colab-df-quickchart-complete:disabled,\n",
       "  .colab-df-quickchart-complete:disabled:hover {\n",
       "    background-color: var(--disabled-bg-color);\n",
       "    fill: var(--disabled-fill-color);\n",
       "    box-shadow: none;\n",
       "  }\n",
       "\n",
       "  .colab-df-spinner {\n",
       "    border: 2px solid var(--fill-color);\n",
       "    border-color: transparent;\n",
       "    border-bottom-color: var(--fill-color);\n",
       "    animation:\n",
       "      spin 1s steps(1) infinite;\n",
       "  }\n",
       "\n",
       "  @keyframes spin {\n",
       "    0% {\n",
       "      border-color: transparent;\n",
       "      border-bottom-color: var(--fill-color);\n",
       "      border-left-color: var(--fill-color);\n",
       "    }\n",
       "    20% {\n",
       "      border-color: transparent;\n",
       "      border-left-color: var(--fill-color);\n",
       "      border-top-color: var(--fill-color);\n",
       "    }\n",
       "    30% {\n",
       "      border-color: transparent;\n",
       "      border-left-color: var(--fill-color);\n",
       "      border-top-color: var(--fill-color);\n",
       "      border-right-color: var(--fill-color);\n",
       "    }\n",
       "    40% {\n",
       "      border-color: transparent;\n",
       "      border-right-color: var(--fill-color);\n",
       "      border-top-color: var(--fill-color);\n",
       "    }\n",
       "    60% {\n",
       "      border-color: transparent;\n",
       "      border-right-color: var(--fill-color);\n",
       "    }\n",
       "    80% {\n",
       "      border-color: transparent;\n",
       "      border-right-color: var(--fill-color);\n",
       "      border-bottom-color: var(--fill-color);\n",
       "    }\n",
       "    90% {\n",
       "      border-color: transparent;\n",
       "      border-bottom-color: var(--fill-color);\n",
       "    }\n",
       "  }\n",
       "</style>\n",
       "\n",
       "  <script>\n",
       "    async function quickchart(key) {\n",
       "      const quickchartButtonEl =\n",
       "        document.querySelector('#' + key + ' button');\n",
       "      quickchartButtonEl.disabled = true;  // To prevent multiple clicks.\n",
       "      quickchartButtonEl.classList.add('colab-df-spinner');\n",
       "      try {\n",
       "        const charts = await google.colab.kernel.invokeFunction(\n",
       "            'suggestCharts', [key], {});\n",
       "      } catch (error) {\n",
       "        console.error('Error during call to suggestCharts:', error);\n",
       "      }\n",
       "      quickchartButtonEl.classList.remove('colab-df-spinner');\n",
       "      quickchartButtonEl.classList.add('colab-df-quickchart-complete');\n",
       "    }\n",
       "    (() => {\n",
       "      let quickchartButtonEl =\n",
       "        document.querySelector('#df-82562a93-aa97-4a5a-9bbf-91fc510367cb button');\n",
       "      quickchartButtonEl.style.display =\n",
       "        google.colab.kernel.accessAllowed ? 'block' : 'none';\n",
       "    })();\n",
       "  </script>\n",
       "</div>\n",
       "\n",
       "    </div>\n",
       "  </div>\n"
      ],
      "text/plain": [
       "                                Date            Day           Year  \\\n",
       "count                         113036  113036.000000  113036.000000   \n",
       "mean   2014-11-23 12:14:55.063519232      15.665753    2014.401739   \n",
       "min              2011-01-01 00:00:00       1.000000    2011.000000   \n",
       "25%              2013-12-22 00:00:00       8.000000    2013.000000   \n",
       "50%              2014-06-27 00:00:00      16.000000    2014.000000   \n",
       "75%              2016-01-09 00:00:00      23.000000    2016.000000   \n",
       "max              2016-07-31 00:00:00      31.000000    2016.000000   \n",
       "std                              NaN       8.781567       1.272510   \n",
       "\n",
       "        Customer_Age  Order_Quantity      Unit_Cost     Unit_Price  \\\n",
       "count  113036.000000   113036.000000  113036.000000  113036.000000   \n",
       "mean       35.919212       11.901660     267.296366     452.938427   \n",
       "min        17.000000        1.000000       1.000000       2.000000   \n",
       "25%        28.000000        2.000000       2.000000       5.000000   \n",
       "50%        35.000000       10.000000       9.000000      24.000000   \n",
       "75%        43.000000       20.000000      42.000000      70.000000   \n",
       "max        87.000000       32.000000    2171.000000    3578.000000   \n",
       "std        11.021936        9.561857     549.835483     922.071219   \n",
       "\n",
       "              Profit           Cost        Revenue  \n",
       "count  113036.000000  113036.000000  113036.000000  \n",
       "mean      285.051665     469.318695     754.370360  \n",
       "min       -30.000000       1.000000       2.000000  \n",
       "25%        29.000000      28.000000      63.000000  \n",
       "50%       101.000000     108.000000     223.000000  \n",
       "75%       358.000000     432.000000     800.000000  \n",
       "max     15096.000000   42978.000000   58074.000000  \n",
       "std       453.887443     884.866118    1309.094674  "
      ]
     },
     "execution_count": 19,
     "metadata": {},
     "output_type": "execute_result"
    }
   ],
   "source": [
    "df.describe()"
   ]
  },
  {
   "cell_type": "code",
   "execution_count": 36,
   "metadata": {
    "colab": {
     "base_uri": "https://localhost:8080/"
    },
    "id": "TuPjasJBlXBw",
    "outputId": "ff3bf8fc-b9e8-4686-b91e-4232cc4ee3f1"
   },
   "outputs": [
    {
     "name": "stdout",
     "output_type": "stream",
     "text": [
      "Missing Values:\n",
      "Date                0\n",
      "Day                 0\n",
      "Month               0\n",
      "Year                0\n",
      "Customer_Age        0\n",
      "Age_Group           0\n",
      "Customer_Gender     0\n",
      "Country             0\n",
      "State               0\n",
      "Product_Category    0\n",
      "Sub_Category        0\n",
      "Product             0\n",
      "Order_Quantity      0\n",
      "Unit_Cost           0\n",
      "Unit_Price          0\n",
      "Profit              0\n",
      "Cost                0\n",
      "Revenue             0\n",
      "dtype: int64\n",
      "Duplicate Columns:\n",
      "[False False False False False False False False False False False False\n",
      " False False False False False False]\n",
      "\n",
      "Data Types:\n",
      "Date: datetime64[ns]\n",
      "Day: int64\n",
      "Month: object\n",
      "Year: int64\n",
      "Customer_Age: int64\n",
      "Age_Group: object\n",
      "Customer_Gender: object\n",
      "Country: object\n",
      "State: object\n",
      "Product_Category: object\n",
      "Sub_Category: object\n",
      "Product: object\n",
      "Order_Quantity: int64\n",
      "Unit_Cost: int64\n",
      "Unit_Price: int64\n",
      "Profit: int64\n",
      "Cost: int64\n",
      "Revenue: int64\n"
     ]
    }
   ],
   "source": [
    "\n",
    "class preprocessing:\n",
    "    def precheck(self):\n",
    "        print(\"Missing Values:\")\n",
    "        print(df.isnull().sum())\n",
    "        print(\"Duplicate Columns:\")\n",
    "        print(df.columns.duplicated())\n",
    "\n",
    "    def dtype(self):\n",
    "        print(\"\\nData Types:\")\n",
    "        for i in df.columns:\n",
    "            datatypes = df.dtypes[i]\n",
    "            print(f\"{i}: {datatypes}\")\n",
    "\n",
    "\n",
    "obj1 = preprocessing()\n",
    "obj1.precheck()\n",
    "obj1.dtype()\n"
   ]
  },
  {
   "cell_type": "markdown",
   "metadata": {
    "id": "3gzPAj1hyUKt"
   },
   "source": [
    "# Calculate summary **statistics** (mean, median, etc.) for numeric columns **bold text**\n"
   ]
  },
  {
   "cell_type": "code",
   "execution_count": 39,
   "metadata": {
    "colab": {
     "base_uri": "https://localhost:8080/"
    },
    "id": "hXbZzrhDmzWV",
    "outputId": "68e9c74b-e9b9-4e4c-8f0d-eefbfc3cc342"
   },
   "outputs": [
    {
     "name": "stdout",
     "output_type": "stream",
     "text": [
      "Column: Order_Quantity\n",
      "Mean: 11.901659648253654\n",
      "Median: 10.0\n",
      "Mode: [1]\n",
      "------------------------------\n",
      "Column: Unit_Price\n",
      "Mean: 452.9384266959199\n",
      "Median: 24.0\n",
      "Mode: [5]\n",
      "------------------------------\n",
      "Column: Profit\n",
      "Mean: 285.0516649562971\n",
      "Median: 101.0\n",
      "Mode: [3]\n",
      "------------------------------\n",
      "Column: Revenue\n",
      "Mean: 754.3703598853463\n",
      "Median: 223.0\n",
      "Mode: [35]\n",
      "------------------------------\n",
      "Column: Cost\n",
      "Mean: 469.3186949290492\n",
      "Median: 108.0\n",
      "Mode: [1252]\n",
      "------------------------------\n",
      "Column: Unit_Cost\n",
      "Mean: 267.296365759581\n",
      "Median: 9.0\n",
      "Mode: [2]\n",
      "------------------------------\n",
      "Column: Customer_Age\n",
      "Mean: 35.91921157861212\n",
      "Median: 35.0\n",
      "Mode: [31]\n",
      "------------------------------\n"
     ]
    }
   ],
   "source": [
    "class NumericalSummary:\n",
    "    def NumSummary(self):\n",
    "        numerical_columsv = ['Order_Quantity', 'Unit_Price', 'Profit',\n",
    "                             'Revenue', 'Cost', 'Unit_Cost', 'Customer_Age']\n",
    "        for i in numerical_columsv:\n",
    "            print(f\"Column: {i}\")\n",
    "            print(\"Mean:\", df[i].mean())       # Mean of the column\n",
    "            print(\"Median:\", df[i].median())   # Median of the column\n",
    "            print(\"Mode:\", df[i].mode().tolist())  # Mode(s) of the column\n",
    "            print(\"-\" * 30)\n",
    "obj1 = NumericalSummary()\n",
    "obj1.NumSummary()\n"
   ]
  },
  {
   "cell_type": "markdown",
   "metadata": {
    "id": "LKUf3RA00gLe"
   },
   "source": [
    "Find the total number of Product_Category, Sub_Category, **Product**\n"
   ]
  },
  {
   "cell_type": "code",
   "execution_count": 56,
   "metadata": {
    "colab": {
     "base_uri": "https://localhost:8080/"
    },
    "id": "On5UPzKRtZLz",
    "outputId": "42fff7b0-aa08-4ffc-94fc-c2856b932ceb"
   },
   "outputs": [
    {
     "name": "stdout",
     "output_type": "stream",
     "text": [
      "Unique values in Product_Category:\n",
      "['Accessories' 'Clothing' 'Bikes']\n",
      "--------------------------------------------------------------------------------\n",
      "Unique values in Sub_Category:\n",
      "['Bike Racks' 'Bike Stands' 'Bottles and Cages' 'Caps' 'Cleaners'\n",
      " 'Fenders' 'Gloves' 'Helmets' 'Hydration Packs' 'Jerseys' 'Mountain Bikes'\n",
      " 'Road Bikes' 'Shorts' 'Socks' 'Tires and Tubes' 'Touring Bikes' 'Vests']\n",
      "--------------------------------------------------------------------------------\n",
      "Unique values in Product:\n",
      "['Hitch Rack - 4-Bike' 'All-Purpose Bike Stand' 'Mountain Bottle Cage'\n",
      " 'Water Bottle - 30 oz.' 'Road Bottle Cage' 'AWC Logo Cap'\n",
      " 'Bike Wash - Dissolver' 'Fender Set - Mountain' 'Half-Finger Gloves, L'\n",
      " 'Half-Finger Gloves, M' 'Half-Finger Gloves, S' 'Sport-100 Helmet, Black'\n",
      " 'Sport-100 Helmet, Red' 'Sport-100 Helmet, Blue'\n",
      " 'Hydration Pack - 70 oz.' 'Short-Sleeve Classic Jersey, XL'\n",
      " 'Short-Sleeve Classic Jersey, L' 'Short-Sleeve Classic Jersey, M'\n",
      " 'Short-Sleeve Classic Jersey, S' 'Long-Sleeve Logo Jersey, M'\n",
      " 'Long-Sleeve Logo Jersey, XL' 'Long-Sleeve Logo Jersey, L'\n",
      " 'Long-Sleeve Logo Jersey, S' 'Mountain-100 Silver, 38'\n",
      " 'Mountain-100 Silver, 44' 'Mountain-100 Black, 48'\n",
      " 'Mountain-100 Silver, 48' 'Mountain-100 Black, 38'\n",
      " 'Mountain-200 Silver, 38' 'Mountain-100 Black, 44'\n",
      " 'Mountain-100 Silver, 42' 'Mountain-200 Black, 46'\n",
      " 'Mountain-200 Silver, 42' 'Mountain-200 Silver, 46'\n",
      " 'Mountain-200 Black, 38' 'Mountain-100 Black, 42'\n",
      " 'Mountain-200 Black, 42' 'Mountain-400-W Silver, 46'\n",
      " 'Mountain-500 Silver, 40' 'Mountain-500 Silver, 44'\n",
      " 'Mountain-500 Black, 48' 'Mountain-500 Black, 40'\n",
      " 'Mountain-400-W Silver, 42' 'Mountain-500 Silver, 52'\n",
      " 'Mountain-500 Black, 52' 'Mountain-500 Silver, 42'\n",
      " 'Mountain-500 Black, 44' 'Mountain-500 Silver, 48'\n",
      " 'Mountain-400-W Silver, 38' 'Mountain-400-W Silver, 40'\n",
      " 'Mountain-500 Black, 42' 'Road-150 Red, 48' 'Road-150 Red, 62'\n",
      " 'Road-750 Black, 48' 'Road-750 Black, 58' 'Road-750 Black, 52'\n",
      " 'Road-150 Red, 52' 'Road-150 Red, 44' 'Road-150 Red, 56'\n",
      " 'Road-750 Black, 44' 'Road-350-W Yellow, 40' 'Road-350-W Yellow, 42'\n",
      " 'Road-250 Black, 44' 'Road-250 Black, 48' 'Road-350-W Yellow, 48'\n",
      " 'Road-550-W Yellow, 44' 'Road-550-W Yellow, 38' 'Road-250 Black, 52'\n",
      " 'Road-550-W Yellow, 48' 'Road-250 Red, 58' 'Road-250 Black, 58'\n",
      " 'Road-250 Red, 52' 'Road-250 Red, 48' 'Road-250 Red, 44'\n",
      " 'Road-550-W Yellow, 42' 'Road-550-W Yellow, 40' 'Road-650 Red, 48'\n",
      " 'Road-650 Red, 60' 'Road-650 Black, 48' 'Road-350-W Yellow, 44'\n",
      " 'Road-650 Red, 52' 'Road-650 Black, 44' 'Road-650 Red, 62'\n",
      " 'Road-650 Red, 58' 'Road-650 Black, 60' 'Road-650 Black, 58'\n",
      " 'Road-650 Black, 52' 'Road-650 Black, 62' 'Road-650 Red, 44'\n",
      " \"Women's Mountain Shorts, M\" \"Women's Mountain Shorts, S\"\n",
      " \"Women's Mountain Shorts, L\" 'Racing Socks, L' 'Racing Socks, M'\n",
      " 'Mountain Tire Tube' 'Touring Tire Tube' 'Patch Kit/8 Patches'\n",
      " 'HL Mountain Tire' 'LL Mountain Tire' 'Road Tire Tube' 'LL Road Tire'\n",
      " 'Touring Tire' 'ML Mountain Tire' 'HL Road Tire' 'ML Road Tire'\n",
      " 'Touring-1000 Yellow, 50' 'Touring-1000 Blue, 46'\n",
      " 'Touring-1000 Yellow, 60' 'Touring-1000 Blue, 50'\n",
      " 'Touring-3000 Yellow, 50' 'Touring-3000 Blue, 54' 'Touring-3000 Blue, 58'\n",
      " 'Touring-3000 Yellow, 44' 'Touring-3000 Yellow, 54'\n",
      " 'Touring-3000 Blue, 62' 'Touring-3000 Blue, 44' 'Touring-1000 Blue, 54'\n",
      " 'Touring-1000 Yellow, 46' 'Touring-1000 Blue, 60'\n",
      " 'Touring-3000 Yellow, 62' 'Touring-1000 Yellow, 54'\n",
      " 'Touring-2000 Blue, 54' 'Touring-3000 Blue, 50' 'Touring-3000 Yellow, 58'\n",
      " 'Touring-2000 Blue, 46' 'Touring-2000 Blue, 50' 'Touring-2000 Blue, 60'\n",
      " 'Classic Vest, L' 'Classic Vest, M' 'Classic Vest, S']\n",
      "--------------------------------------------------------------------------------\n"
     ]
    }
   ],
   "source": [
    "listofcol = ['Product_Category', 'Sub_Category', 'Product']\n",
    "def task2():\n",
    "    for i in listofcol:\n",
    "      print(f\"Unique values in {i}:\")\n",
    "      print(df[i].unique())\n",
    "      print(\"-\"*80)\n",
    "task2()"
   ]
  },
  {
   "cell_type": "markdown",
   "metadata": {
    "id": "fVl7EbW8LfQE"
   },
   "source": [
    "Create a histogram of Customer_Age to observe the age distribution.bold text"
   ]
  },
  {
   "cell_type": "code",
   "execution_count": 63,
   "metadata": {
    "colab": {
     "base_uri": "https://localhost:8080/",
     "height": 472
    },
    "id": "V90M6F8gLbWW",
    "outputId": "09738b18-09a8-4c90-8126-7eb58cae0a34"
   },
   "outputs": [
    {
     "data": {
      "image/png": "[encoded data removed]",
      "text/plain": [
       "<Figure size 640x480 with 1 Axes>"
      ]
     },
     "metadata": {},
     "output_type": "display_data"
    }
   ],
   "source": [
    "import matplotlib.pyplot as plt\n",
    "def hist_custage():\n",
    "   df.hist(column='Customer_Age', bins = 50,color='#86bf91')\n",
    "   plt.title(\"Age Distribution\")\n",
    "   plt.xlabel(\"Customer Age\")\n",
    "   plt.ylabel(\"Frequency\")\n",
    "   plt.show()\n",
    "\n",
    "hist_custage()"
   ]
  },
  {
   "cell_type": "markdown",
   "metadata": {
    "id": "5ueShbY0TQm-"
   },
   "source": []
  },
  {
   "cell_type": "code",
   "execution_count": 73,
   "metadata": {
    "colab": {
     "base_uri": "https://localhost:8080/",
     "height": 427
    },
    "id": "gb9b-oxP2eJ4",
    "outputId": "e39ed02f-5b3b-4e55-b7cb-4f002f1a0f50"
   },
   "outputs": [
    {
     "data": {
      "image/png": "[encoded data removed]",
      "text/plain": [
       "<Figure size 1600x400 with 4 Axes>"
      ]
     },
     "metadata": {},
     "output_type": "display_data"
    }
   ],
   "source": [
    "fig, axes = plt.subplots(1, 4, figsize=(16, 4))\n",
    "for idx, i in enumerate(b):\n",
    "    subset = df[df['Age_Group'] == i]\n",
    "    subset.boxplot(column=['Revenue'], ax=axes[idx], grid=False)\n",
    "    axes[idx].set_title(f\"Age Group: {i}\")\n",
    "    axes[idx].set_ylabel(\"Revenue\")\n",
    "    axes[idx].set_xlabel(\"\")\n",
    "\n",
    "plt.tight_layout()\n",
    "plt.show()"
   ]
  },
  {
   "cell_type": "markdown",
   "metadata": {
    "id": "8i8pOWyT1efb"
   },
   "source": []
  },
  {
   "cell_type": "code",
   "execution_count": 10,
   "metadata": {
    "colab": {
     "base_uri": "https://localhost:8080/",
     "height": 444
    },
    "id": "hWMTX5Bvw9qI",
    "outputId": "7d4cfdd1-3e4f-4fa8-8d77-05d1f484962a"
   },
   "outputs": [
    {
     "data": {
      "image/png": "[encoded data removed]",
      "text/plain": [
       "<Figure size 500x500 with 1 Axes>"
      ]
     },
     "metadata": {},
     "output_type": "display_data"
    }
   ],
   "source": [
    "import matplotlib.pyplot as plt\n",
    "def pie():\n",
    "    gender_counts = df['Customer_Gender'].value_counts()\n",
    "    gender_counts.plot.pie(\n",
    "        autopct='%1.1f%%',\n",
    "        figsize=(5, 5),\n",
    "        startangle=90,\n",
    "        colors=['skyblue', 'pink']\n",
    "    )\n",
    "    plt.title(\"Customer Gender Distribution\")\n",
    "    plt.ylabel(\"\")\n",
    "    plt.show()\n",
    "\n",
    "pie()"
   ]
  }
 ],
 "metadata": {
  "colab": {
   "provenance": []
  },
  "kernelspec": {
   "display_name": "Python 3",
   "name": "python3"
  },
  "language_info": {
   "codemirror_mode": {
    "name": "ipython",
    "version": 3
   },
   "file_extension": ".py",
   "mimetype": "text/x-python",
   "name": "python",
   "nbconvert_exporter": "python",
   "pygments_lexer": "ipython3",
   "version": "3.11.9"
  }
 },
 "nbformat": 4,
 "nbformat_minor": 0
}
